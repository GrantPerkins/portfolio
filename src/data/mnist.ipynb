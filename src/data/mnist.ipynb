{
 "cells": [
  {
   "cell_type": "markdown",
   "id": "dc9a2db2",
   "metadata": {},
   "source": [
    "# Grant Perkins CS 4513 Final Project\n",
    "\n",
    "In this project, I developed a distributed machine learning solution with AWS SageMaker.\n",
    "\n",
    "Features:\n",
    " - Distributed computing:\n",
    "   + One virtual computer runs this Jupyter Notebook\n",
    "   + One virtual computer stores dataset\n",
    "   + N virtual computers run the training job\n",
    " - Machine Learning:\n",
    "   + Trains a custom neural network to recognize digits in the MNIST dataset\n",
    "   + Customizable hyperparameters (epochs, batch size, learning rate)\n",
    "\n",
    "I started this project on 4/30/2021, for CS 4513."
   ]
  },
  {
   "cell_type": "markdown",
   "id": "85af115a",
   "metadata": {},
   "source": [
    "## Section 1: Data\n",
    "\n",
    "In this section, I download the dataset, and upload it to a computer controlled by AWS S3, a long-term data service."
   ]
  },
  {
   "cell_type": "code",
   "execution_count": null,
   "id": "0b87d30c",
   "metadata": {},
   "outputs": [],
   "source": [
    " # create hyperaparameters\n",
    "N_workers = 16  # must be factor of 8\n",
    "epochs = 10000\n",
    "batch_size = 64  # one batch per epoch\n",
    "learning_rate = 0.000125\n",
    "\n",
    "hyperparameters = {\n",
    "    \"epochs\": epochs,\n",
    "    \"batch_size\": batch_size,\n",
    "    \"learning_rate\": learning_rate\n",
    "}"
   ]
  },
  {
   "cell_type": "code",
   "execution_count": null,
   "id": "557b1b1d",
   "metadata": {},
   "outputs": [],
   "source": [
    "# import dependencies\n",
    "import tensorflow as tf\n",
    "import sagemaker as sage\n",
    "from sagemaker.tensorflow import TensorFlow"
   ]
  },
  {
   "cell_type": "code",
   "execution_count": null,
   "id": "1e64b2cb",
   "metadata": {},
   "outputs": [],
   "source": [
    "# set up SageMaker connections\n",
    "\n",
    "# folder within S3 bucket\n",
    "bucket = \"CS4513MNIST\"\n",
    "# temp download location of MNIST dataset\n",
    "mnist_directory = \"/home/ec2-user/.keras/datasets\"\n",
    "sess = sage.Session()\n",
    "role = sage.get_execution_role()"
   ]
  },
  {
   "cell_type": "code",
   "execution_count": null,
   "id": "0c2ab310",
   "metadata": {},
   "outputs": [],
   "source": [
    "for i in range(N_workers):\n",
    "    tf.keras.datasets.mnist.load_data(path='mnist-%d.npz' % i)\n",
    "data_location = sess.upload_data(mnist_directory, key_prefix=bucket)"
   ]
  },
  {
   "cell_type": "markdown",
   "id": "9321437e",
   "metadata": {},
   "source": [
    "## Section 2: Training\n",
    "\n",
    "Now that the data is in the correct place, I can train a neural network for the dataset. I do this on N separate computers. N can be any natural number."
   ]
  },
  {
   "cell_type": "code",
   "execution_count": null,
   "id": "3053b6fc",
   "metadata": {},
   "outputs": [],
   "source": [
    "\"\"\"\n",
    "Make estimator. Creates a training job, distributing the work across `N_workers` workers, and `N_workers//8` computers.\n",
    "Trains on GPU. Runs `mnist.py` training set is distributed among workers. See `mnist.py` for more details.\n",
    "\"\"\"\n",
    "estimator = TensorFlow(\n",
    "    base_job_name='mnist-cs4513',\n",
    "    source_dir='code',\n",
    "    entry_point='mnist.py',\n",
    "    role=role,\n",
    "    py_version='py37',\n",
    "    framework_version='2.4.1',\n",
    "    hyperparameters=hyperparameters,\n",
    "    instance_count=N_workers // 8,\n",
    "    instance_type='ml.p3.16xlarge',\n",
    "    sagemaker_session=sess,\n",
    "    distribution={\n",
    "        'smdistributed': {\n",
    "            'dataparallel': {\n",
    "                'enabled': True\n",
    "            }\n",
    "        }\n",
    "    }\n",
    ")\n",
    "\n",
    "estimator.fit(data_location)"
   ]
  },
  {
   "cell_type": "code",
   "execution_count": null,
   "id": "bb1f4d4b",
   "metadata": {},
   "outputs": [],
   "source": []
  }
 ],
 "metadata": {
  "kernelspec": {
   "display_name": "conda_tensorflow2_p36",
   "language": "python",
   "name": "conda_tensorflow2_p36"
  },
  "language_info": {
   "codemirror_mode": {
    "name": "ipython",
    "version": 3
   },
   "file_extension": ".py",
   "mimetype": "text/x-python",
   "name": "python",
   "nbconvert_exporter": "python",
   "pygments_lexer": "ipython3",
   "version": "3.6.13"
  }
 },
 "nbformat": 4,
 "nbformat_minor": 5
}